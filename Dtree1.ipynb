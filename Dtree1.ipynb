{
 "cells": [
  {
   "cell_type": "code",
   "execution_count": 15,
   "metadata": {},
   "outputs": [],
   "source": [
    "from sklearn.tree import DecisionTreeRegressor\n",
    "from sklearn.tree import export_graphviz\n",
    "import numpy as np\n",
    "import pandas as pd\n",
    "import pydotplus\n",
    "import matplotlib.pyplot as plt"
   ]
  },
  {
   "cell_type": "code",
   "execution_count": 16,
   "metadata": {},
   "outputs": [],
   "source": [
    "# Data Collection\n",
    "data = np.array( \n",
    "[['Asset Flip', 100, 1000], \n",
    "['Text Based', 500, 3000], \n",
    "['Visual Novel', 1500, 5000], \n",
    "['2D Pixel Art', 3500, 8000], \n",
    "['2D Vector Art', 5000, 6500], \n",
    "['Strategy', 6000, 7000], \n",
    "['First Person Shooter', 8000, 15000], \n",
    "['Simulator', 9500, 20000], \n",
    "['Racing', 12000, 21000], \n",
    "['RPG', 14000, 25000], \n",
    "['Sandbox', 15500, 27000], \n",
    "['Open-World', 16500, 30000], \n",
    "['MMOFPS', 25000, 52000], \n",
    "['MMORPG', 30000, 80000] \n",
    "]) \n"
   ]
  },
  {
   "cell_type": "code",
   "execution_count": 17,
   "metadata": {
    "scrolled": true
   },
   "outputs": [
    {
     "data": {
      "text/plain": [
       "array([[  100],\n",
       "       [  500],\n",
       "       [ 1500],\n",
       "       [ 3500],\n",
       "       [ 5000],\n",
       "       [ 6000],\n",
       "       [ 8000],\n",
       "       [ 9500],\n",
       "       [12000],\n",
       "       [14000],\n",
       "       [15500],\n",
       "       [16500],\n",
       "       [25000],\n",
       "       [30000]])"
      ]
     },
     "execution_count": 17,
     "metadata": {},
     "output_type": "execute_result"
    }
   ],
   "source": [
    "X=data[:, 1:2].astype(int)\n",
    "y = data[:, 2].astype(int)\n",
    "X"
   ]
  },
  {
   "cell_type": "code",
   "execution_count": 18,
   "metadata": {},
   "outputs": [
    {
     "data": {
      "text/plain": [
       "array([[  100],\n",
       "       [  500],\n",
       "       [ 1500],\n",
       "       [ 3500],\n",
       "       [ 5000],\n",
       "       [ 6000],\n",
       "       [ 8000],\n",
       "       [ 9500],\n",
       "       [12000],\n",
       "       [14000],\n",
       "       [15500],\n",
       "       [16500],\n",
       "       [25000],\n",
       "       [30000]])"
      ]
     },
     "execution_count": 18,
     "metadata": {},
     "output_type": "execute_result"
    }
   ],
   "source": [
    "X=X.reshape(14,1)\n",
    "X"
   ]
  },
  {
   "cell_type": "code",
   "execution_count": 19,
   "metadata": {},
   "outputs": [
    {
     "data": {
      "text/plain": [
       "DecisionTreeRegressor(criterion='mse', max_depth=None, max_features=None,\n",
       "           max_leaf_nodes=None, min_impurity_decrease=0.0,\n",
       "           min_impurity_split=None, min_samples_leaf=1,\n",
       "           min_samples_split=2, min_weight_fraction_leaf=0.0,\n",
       "           presort=False, random_state=0, splitter='best')"
      ]
     },
     "execution_count": 19,
     "metadata": {},
     "output_type": "execute_result"
    }
   ],
   "source": [
    "regressor = DecisionTreeRegressor(random_state = 0)  \n",
    "regressor.fit(X, y) "
   ]
  },
  {
   "cell_type": "code",
   "execution_count": 13,
   "metadata": {},
   "outputs": [
    {
     "data": {
      "text/plain": [
       "True"
      ]
     },
     "execution_count": 13,
     "metadata": {},
     "output_type": "execute_result"
    }
   ],
   "source": [
    "dot_data = export_graphviz(regressor,out_file=None,\n",
    "                                feature_names=['Productioncost'] )\n",
    "graph = pydotplus.graph_from_dot_data(dot_data)\n",
    "graph.write_pdf(\"tree.pdf\")"
   ]
  },
  {
   "cell_type": "code",
   "execution_count": 20,
   "metadata": {},
   "outputs": [
    {
     "data": {
      "image/png": "[encoded data removed]",
      "text/plain": [
       "<Figure size 432x288 with 1 Axes>"
      ]
     },
     "metadata": {
      "needs_background": "light"
     },
     "output_type": "display_data"
    }
   ],
   "source": [
    "X_grid = np.arange(min(X), max(X), 0.01)\n",
    "X_grid = X_grid.reshape((len(X_grid), 1))\n",
    "plt.scatter(X, y, color = 'red')\n",
    "plt.plot(X_grid, regressor.predict(X_grid), color = 'blue')\n",
    "plt.title('Dec Tree Regression')\n",
    "plt.xlabel('level')\n",
    "plt.ylabel('Salary')\n",
    "plt.show()"
   ]
  },
  {
   "cell_type": "code",
   "execution_count": null,
   "metadata": {},
   "outputs": [],
   "source": []
  },
  {
   "cell_type": "code",
   "execution_count": null,
   "metadata": {},
   "outputs": [],
   "source": []
  }
 ],
 "metadata": {
  "kernelspec": {
   "display_name": "Python 3",
   "language": "python",
   "name": "python3"
  },
  "language_info": {
   "codemirror_mode": {
    "name": "ipython",
    "version": 3
   },
   "file_extension": ".py",
   "mimetype": "text/x-python",
   "name": "python",
   "nbconvert_exporter": "python",
   "pygments_lexer": "ipython3",
   "version": "3.7.3"
  }
 },
 "nbformat": 4,
 "nbformat_minor": 2
}
