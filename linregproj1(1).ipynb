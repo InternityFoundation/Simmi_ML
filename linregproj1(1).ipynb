{
 "cells": [
  {
   "cell_type": "code",
   "execution_count": 1,
   "metadata": {},
   "outputs": [],
   "source": [
    "#import libraries\n",
    "import numpy as np\n",
    "import seaborn as sns\n",
    "import math\n",
    "%matplotlib inline\n",
    "import pandas as pd\n",
    "\n",
    "import matplotlib.pyplot as plt\n",
    "#setting figure size\n",
    "from matplotlib.pylab import rcParams\n",
    "rcParams['figure.figsize'] = 20,10\n",
    "\n",
    "#for normalizing data\n",
    "from sklearn.preprocessing import MinMaxScaler\n",
    "scaler = MinMaxScaler(feature_range=(0, 1))\n"
   ]
  },
  {
   "cell_type": "code",
   "execution_count": 2,
   "metadata": {},
   "outputs": [
    {
     "data": {
      "text/html": [
       "<div>\n",
       "<style scoped>\n",
       "    .dataframe tbody tr th:only-of-type {\n",
       "        vertical-align: middle;\n",
       "    }\n",
       "\n",
       "    .dataframe tbody tr th {\n",
       "        vertical-align: top;\n",
       "    }\n",
       "\n",
       "    .dataframe thead th {\n",
       "        text-align: right;\n",
       "    }\n",
       "</style>\n",
       "<table border=\"1\" class=\"dataframe\">\n",
       "  <thead>\n",
       "    <tr style=\"text-align: right;\">\n",
       "      <th></th>\n",
       "      <th>Unnamed: 0</th>\n",
       "      <th>Volume</th>\n",
       "      <th>adjusted cost</th>\n",
       "      <th>closed price</th>\n",
       "      <th>date</th>\n",
       "      <th>high price</th>\n",
       "      <th>low price</th>\n",
       "      <th>open price</th>\n",
       "    </tr>\n",
       "  </thead>\n",
       "  <tbody>\n",
       "    <tr>\n",
       "      <th>0</th>\n",
       "      <td>0</td>\n",
       "      <td>6,52,22,000</td>\n",
       "      <td>87.39</td>\n",
       "      <td>95.35</td>\n",
       "      <td>08-Jul-14</td>\n",
       "      <td>96.80</td>\n",
       "      <td>93.92</td>\n",
       "      <td>96.27</td>\n",
       "    </tr>\n",
       "    <tr>\n",
       "      <th>1</th>\n",
       "      <td>1</td>\n",
       "      <td>3,64,36,000</td>\n",
       "      <td>87.43</td>\n",
       "      <td>95.39</td>\n",
       "      <td>09-Jul-14</td>\n",
       "      <td>95.95</td>\n",
       "      <td>94.76</td>\n",
       "      <td>95.44</td>\n",
       "    </tr>\n",
       "    <tr>\n",
       "      <th>2</th>\n",
       "      <td>2</td>\n",
       "      <td>3,96,86,000</td>\n",
       "      <td>87.11</td>\n",
       "      <td>95.04</td>\n",
       "      <td>10-Jul-14</td>\n",
       "      <td>95.55</td>\n",
       "      <td>93.52</td>\n",
       "      <td>93.76</td>\n",
       "    </tr>\n",
       "    <tr>\n",
       "      <th>3</th>\n",
       "      <td>3</td>\n",
       "      <td>3,40,18,000</td>\n",
       "      <td>87.27</td>\n",
       "      <td>95.22</td>\n",
       "      <td>11-Jul-14</td>\n",
       "      <td>95.89</td>\n",
       "      <td>94.86</td>\n",
       "      <td>95.36</td>\n",
       "    </tr>\n",
       "    <tr>\n",
       "      <th>4</th>\n",
       "      <td>4</td>\n",
       "      <td>4,28,10,000</td>\n",
       "      <td>88.40</td>\n",
       "      <td>96.45</td>\n",
       "      <td>14-Jul-14</td>\n",
       "      <td>96.89</td>\n",
       "      <td>95.65</td>\n",
       "      <td>95.86</td>\n",
       "    </tr>\n",
       "    <tr>\n",
       "      <th>5</th>\n",
       "      <td>5</td>\n",
       "      <td>4,54,77,900</td>\n",
       "      <td>87.36</td>\n",
       "      <td>95.32</td>\n",
       "      <td>15-Jul-14</td>\n",
       "      <td>96.85</td>\n",
       "      <td>95.03</td>\n",
       "      <td>96.80</td>\n",
       "    </tr>\n",
       "    <tr>\n",
       "      <th>6</th>\n",
       "      <td>6</td>\n",
       "      <td>5,33,96,300</td>\n",
       "      <td>86.87</td>\n",
       "      <td>94.78</td>\n",
       "      <td>16-Jul-14</td>\n",
       "      <td>97.10</td>\n",
       "      <td>94.74</td>\n",
       "      <td>96.97</td>\n",
       "    </tr>\n",
       "    <tr>\n",
       "      <th>7</th>\n",
       "      <td>7</td>\n",
       "      <td>5,72,98,000</td>\n",
       "      <td>85.32</td>\n",
       "      <td>93.09</td>\n",
       "      <td>17-Jul-14</td>\n",
       "      <td>95.28</td>\n",
       "      <td>92.57</td>\n",
       "      <td>95.03</td>\n",
       "    </tr>\n",
       "    <tr>\n",
       "      <th>8</th>\n",
       "      <td>8</td>\n",
       "      <td>4,99,88,000</td>\n",
       "      <td>86.55</td>\n",
       "      <td>94.43</td>\n",
       "      <td>18-Jul-14</td>\n",
       "      <td>94.74</td>\n",
       "      <td>93.02</td>\n",
       "      <td>93.62</td>\n",
       "    </tr>\n",
       "    <tr>\n",
       "      <th>9</th>\n",
       "      <td>9</td>\n",
       "      <td>3,90,79,000</td>\n",
       "      <td>86.10</td>\n",
       "      <td>93.94</td>\n",
       "      <td>21-Jul-14</td>\n",
       "      <td>95.00</td>\n",
       "      <td>93.72</td>\n",
       "      <td>94.99</td>\n",
       "    </tr>\n",
       "    <tr>\n",
       "      <th>10</th>\n",
       "      <td>10</td>\n",
       "      <td>5,51,97,000</td>\n",
       "      <td>86.81</td>\n",
       "      <td>94.72</td>\n",
       "      <td>22-Jul-14</td>\n",
       "      <td>94.89</td>\n",
       "      <td>94.12</td>\n",
       "      <td>94.68</td>\n",
       "    </tr>\n",
       "    <tr>\n",
       "      <th>11</th>\n",
       "      <td>11</td>\n",
       "      <td>9,29,18,000</td>\n",
       "      <td>89.08</td>\n",
       "      <td>97.19</td>\n",
       "      <td>23-Jul-14</td>\n",
       "      <td>97.88</td>\n",
       "      <td>95.17</td>\n",
       "      <td>95.42</td>\n",
       "    </tr>\n",
       "    <tr>\n",
       "      <th>12</th>\n",
       "      <td>12</td>\n",
       "      <td>4,57,29,000</td>\n",
       "      <td>88.93</td>\n",
       "      <td>97.03</td>\n",
       "      <td>24-Jul-14</td>\n",
       "      <td>97.32</td>\n",
       "      <td>96.42</td>\n",
       "      <td>97.04</td>\n",
       "    </tr>\n",
       "    <tr>\n",
       "      <th>13</th>\n",
       "      <td>13</td>\n",
       "      <td>4,34,69,000</td>\n",
       "      <td>89.52</td>\n",
       "      <td>97.67</td>\n",
       "      <td>25-Jul-14</td>\n",
       "      <td>97.84</td>\n",
       "      <td>96.64</td>\n",
       "      <td>96.85</td>\n",
       "    </tr>\n",
       "    <tr>\n",
       "      <th>14</th>\n",
       "      <td>14</td>\n",
       "      <td>5,53,18,000</td>\n",
       "      <td>90.75</td>\n",
       "      <td>99.02</td>\n",
       "      <td>28-Jul-14</td>\n",
       "      <td>99.24</td>\n",
       "      <td>97.55</td>\n",
       "      <td>97.82</td>\n",
       "    </tr>\n",
       "    <tr>\n",
       "      <th>15</th>\n",
       "      <td>15</td>\n",
       "      <td>4,31,43,000</td>\n",
       "      <td>90.17</td>\n",
       "      <td>98.38</td>\n",
       "      <td>29-Jul-14</td>\n",
       "      <td>99.44</td>\n",
       "      <td>98.25</td>\n",
       "      <td>99.33</td>\n",
       "    </tr>\n",
       "    <tr>\n",
       "      <th>16</th>\n",
       "      <td>16</td>\n",
       "      <td>3,30,10,000</td>\n",
       "      <td>89.96</td>\n",
       "      <td>98.15</td>\n",
       "      <td>30-Jul-14</td>\n",
       "      <td>98.70</td>\n",
       "      <td>97.67</td>\n",
       "      <td>98.44</td>\n",
       "    </tr>\n",
       "    <tr>\n",
       "      <th>17</th>\n",
       "      <td>17</td>\n",
       "      <td>5,68,43,000</td>\n",
       "      <td>87.62</td>\n",
       "      <td>95.60</td>\n",
       "      <td>31-Jul-14</td>\n",
       "      <td>97.45</td>\n",
       "      <td>95.33</td>\n",
       "      <td>97.16</td>\n",
       "    </tr>\n",
       "    <tr>\n",
       "      <th>18</th>\n",
       "      <td>18</td>\n",
       "      <td>4,85,11,000</td>\n",
       "      <td>88.11</td>\n",
       "      <td>96.13</td>\n",
       "      <td>01-Aug-14</td>\n",
       "      <td>96.62</td>\n",
       "      <td>94.81</td>\n",
       "      <td>94.90</td>\n",
       "    </tr>\n",
       "    <tr>\n",
       "      <th>19</th>\n",
       "      <td>19</td>\n",
       "      <td>3,99,58,000</td>\n",
       "      <td>87.61</td>\n",
       "      <td>95.59</td>\n",
       "      <td>04-Aug-14</td>\n",
       "      <td>96.58</td>\n",
       "      <td>95.17</td>\n",
       "      <td>96.37</td>\n",
       "    </tr>\n",
       "  </tbody>\n",
       "</table>\n",
       "</div>"
      ],
      "text/plain": [
       "    Unnamed: 0       Volume  adjusted cost  closed price       date  \\\n",
       "0            0  6,52,22,000          87.39         95.35  08-Jul-14   \n",
       "1            1  3,64,36,000          87.43         95.39  09-Jul-14   \n",
       "2            2  3,96,86,000          87.11         95.04  10-Jul-14   \n",
       "3            3  3,40,18,000          87.27         95.22  11-Jul-14   \n",
       "4            4  4,28,10,000          88.40         96.45  14-Jul-14   \n",
       "5            5  4,54,77,900          87.36         95.32  15-Jul-14   \n",
       "6            6  5,33,96,300          86.87         94.78  16-Jul-14   \n",
       "7            7  5,72,98,000          85.32         93.09  17-Jul-14   \n",
       "8            8  4,99,88,000          86.55         94.43  18-Jul-14   \n",
       "9            9  3,90,79,000          86.10         93.94  21-Jul-14   \n",
       "10          10  5,51,97,000          86.81         94.72  22-Jul-14   \n",
       "11          11  9,29,18,000          89.08         97.19  23-Jul-14   \n",
       "12          12  4,57,29,000          88.93         97.03  24-Jul-14   \n",
       "13          13  4,34,69,000          89.52         97.67  25-Jul-14   \n",
       "14          14  5,53,18,000          90.75         99.02  28-Jul-14   \n",
       "15          15  4,31,43,000          90.17         98.38  29-Jul-14   \n",
       "16          16  3,30,10,000          89.96         98.15  30-Jul-14   \n",
       "17          17  5,68,43,000          87.62         95.60  31-Jul-14   \n",
       "18          18  4,85,11,000          88.11         96.13  01-Aug-14   \n",
       "19          19  3,99,58,000          87.61         95.59  04-Aug-14   \n",
       "\n",
       "    high price  low price  open price  \n",
       "0        96.80      93.92       96.27  \n",
       "1        95.95      94.76       95.44  \n",
       "2        95.55      93.52       93.76  \n",
       "3        95.89      94.86       95.36  \n",
       "4        96.89      95.65       95.86  \n",
       "5        96.85      95.03       96.80  \n",
       "6        97.10      94.74       96.97  \n",
       "7        95.28      92.57       95.03  \n",
       "8        94.74      93.02       93.62  \n",
       "9        95.00      93.72       94.99  \n",
       "10       94.89      94.12       94.68  \n",
       "11       97.88      95.17       95.42  \n",
       "12       97.32      96.42       97.04  \n",
       "13       97.84      96.64       96.85  \n",
       "14       99.24      97.55       97.82  \n",
       "15       99.44      98.25       99.33  \n",
       "16       98.70      97.67       98.44  \n",
       "17       97.45      95.33       97.16  \n",
       "18       96.62      94.81       94.90  \n",
       "19       96.58      95.17       96.37  "
      ]
     },
     "execution_count": 2,
     "metadata": {},
     "output_type": "execute_result"
    }
   ],
   "source": [
    "#import dataset\n",
    "data = pd.read_csv('appl.csv')  \n",
    "data.head(20)\n"
   ]
  },
  {
   "cell_type": "code",
   "execution_count": 3,
   "metadata": {},
   "outputs": [
    {
     "name": "stderr",
     "output_type": "stream",
     "text": [
      "C:\\ProgramData\\Anaconda3\\lib\\site-packages\\pandas\\plotting\\_converter.py:129: FutureWarning: Using an implicitly registered datetime converter for a matplotlib plotting method. The converter was registered by pandas on import. Future versions of pandas will require you to explicitly register matplotlib converters.\n",
      "\n",
      "To register the converters:\n",
      "\t>>> from pandas.plotting import register_matplotlib_converters\n",
      "\t>>> register_matplotlib_converters()\n",
      "  warnings.warn(msg, FutureWarning)\n"
     ]
    },
    {
     "data": {
      "text/plain": [
       "[<matplotlib.lines.Line2D at 0x281025944e0>]"
      ]
     },
     "execution_count": 3,
     "metadata": {},
     "output_type": "execute_result"
    },
    {
     "data": {
      "image/png": "[encoded data removed]",
      "text/plain": [
       "<Figure size 1152x576 with 1 Axes>"
      ]
     },
     "metadata": {
      "needs_background": "light"
     },
     "output_type": "display_data"
    }
   ],
   "source": [
    "#setting index as date\n",
    "data['date'] = pd.to_datetime(data.date,format='%d-%b-%y')\n",
    "data.index = data['date']\n",
    "\n",
    "#plot\n",
    "plt.figure(figsize=(16,8))\n",
    "plt.plot(data['closed price'], label='Close Price history')\n"
   ]
  },
  {
   "cell_type": "code",
   "execution_count": 4,
   "metadata": {},
   "outputs": [
    {
     "data": {
      "text/plain": [
       "1195"
      ]
     },
     "execution_count": 4,
     "metadata": {},
     "output_type": "execute_result"
    }
   ],
   "source": [
    "#X=data['date'].values\n",
    "#X=X.reshape(m,1)\n",
    "#X.shape\n",
    "#X.dtype\n",
    "m=len(data)\n",
    "m"
   ]
  },
  {
   "cell_type": "code",
   "execution_count": 5,
   "metadata": {},
   "outputs": [
    {
     "data": {
      "text/plain": [
       "dtype('int64')"
      ]
     },
     "execution_count": 5,
     "metadata": {},
     "output_type": "execute_result"
    }
   ],
   "source": [
    "data['day'] = data['date'].dt.day\n",
    "X=data['day'].values\n",
    "X=X.reshape(m,1)\n",
    "X.shape\n",
    "X.dtype"
   ]
  },
  {
   "cell_type": "code",
   "execution_count": 6,
   "metadata": {},
   "outputs": [
    {
     "data": {
      "text/plain": [
       "array([[ 95.35],\n",
       "       [ 95.39],\n",
       "       [ 95.04],\n",
       "       ...,\n",
       "       [204.41],\n",
       "       [204.23],\n",
       "       [200.02]])"
      ]
     },
     "execution_count": 6,
     "metadata": {},
     "output_type": "execute_result"
    }
   ],
   "source": [
    "y=data['closed price'].values\n",
    "y=y.reshape(m,1)\n",
    "y.shape\n",
    "y"
   ]
  },
  {
   "cell_type": "code",
   "execution_count": 7,
   "metadata": {},
   "outputs": [],
   "source": [
    "#train-test split\n",
    "from sklearn.model_selection import train_test_split\n",
    "x_train, x_test, y_train, y_test = train_test_split(X, y, test_size=0.2, random_state=0)"
   ]
  },
  {
   "cell_type": "code",
   "execution_count": 8,
   "metadata": {},
   "outputs": [],
   "source": [
    "from sklearn.linear_model import LinearRegression\n",
    "reg=LinearRegression()\n",
    "reg=reg.fit(x_train,y_train)\n"
   ]
  },
  {
   "cell_type": "code",
   "execution_count": 9,
   "metadata": {},
   "outputs": [
    {
     "data": {
      "text/plain": [
       "[<matplotlib.lines.Line2D at 0x28102b920b8>]"
      ]
     },
     "execution_count": 9,
     "metadata": {},
     "output_type": "execute_result"
    },
    {
     "data": {
      "image/png": "[encoded data removed]",
      "text/plain": [
       "<Figure size 1152x576 with 2 Axes>"
      ]
     },
     "metadata": {
      "needs_background": "light"
     },
     "output_type": "display_data"
    }
   ],
   "source": [
    "pred = reg.predict(x_test)\n",
    "pred\n",
    "#plot\n",
    "fig=plt.figure(figsize=(16,8))\n",
    "graph1=fig.add_subplot(2,1,1)\n",
    "graph1.plot(data['closed price'],color=\"Blue\")\n",
    "graph2=fig.add_subplot(2,1,2)\n",
    "graph2.plot(pred,color = 'green')"
   ]
  },
  {
   "cell_type": "code",
   "execution_count": 70,
   "metadata": {},
   "outputs": [
    {
     "data": {
      "image/png": "[encoded data removed]",
      "text/plain": [
       "<Figure size 576x360 with 1 Axes>"
      ]
     },
     "metadata": {
      "needs_background": "light"
     },
     "output_type": "display_data"
    },
    {
     "data": {
      "image/png": "[encoded data removed]",
      "text/plain": [
       "<Figure size 576x360 with 1 Axes>"
      ]
     },
     "metadata": {
      "needs_background": "light"
     },
     "output_type": "display_data"
    }
   ],
   "source": [
    "# Train set graph\n",
    "plt.figure(1, figsize=(8,5))\n",
    "plt.title('Linear Regression | Price vs Time')\n",
    "plt.scatter(x_train, y_train, edgecolor='w', label='Actual Price')\n",
    "plt.plot(x_train, reg.predict(x_train), color='r', label='Predicted Price')\n",
    "plt.xlabel('Integer Date')\n",
    "plt.ylabel('Stock Price')\n",
    "plt.legend()\n",
    "plt.show()\n",
    "\n",
    "#Test Set Graph\n",
    "plt.figure(1, figsize=(8,5))\n",
    "plt.scatter(x_test, y_test, color='yellow', label= 'Actual Price') #plotting the initial datapoints\n",
    "plt.plot(x_test, reg.predict(x_test), color='blue', linewidth=3, label = 'Predicted Price') #plotting the line made by linear regression\n",
    "plt.title('Linear Regression | Time vs. Price')\n",
    "plt.legend()\n",
    "plt.xlabel('Date Integer')\n",
    "plt.show()"
   ]
  },
  {
   "cell_type": "code",
   "execution_count": 78,
   "metadata": {},
   "outputs": [
    {
     "name": "stdout",
     "output_type": "stream",
     "text": [
      "Root Mean Squared Error: 38.15026382036237\n"
     ]
    }
   ],
   "source": [
    "# Import metrics package from sklearn for statistical analysis\n",
    "from sklearn import metrics\n",
    "print('Root Mean Squared Error:', np.sqrt(metrics.mean_squared_error(y_test, pred)))\n"
   ]
  },
  {
   "cell_type": "code",
   "execution_count": 71,
   "metadata": {},
   "outputs": [
    {
     "data": {
      "text/html": [
       "<div>\n",
       "<style scoped>\n",
       "    .dataframe tbody tr th:only-of-type {\n",
       "        vertical-align: middle;\n",
       "    }\n",
       "\n",
       "    .dataframe tbody tr th {\n",
       "        vertical-align: top;\n",
       "    }\n",
       "\n",
       "    .dataframe thead th {\n",
       "        text-align: right;\n",
       "    }\n",
       "</style>\n",
       "<table border=\"1\" class=\"dataframe\">\n",
       "  <thead>\n",
       "    <tr style=\"text-align: right;\">\n",
       "      <th></th>\n",
       "      <th>date</th>\n",
       "      <th>closed price</th>\n",
       "    </tr>\n",
       "  </thead>\n",
       "  <tbody>\n",
       "    <tr>\n",
       "      <th>0</th>\n",
       "      <td>2014-07-08</td>\n",
       "      <td>95.35</td>\n",
       "    </tr>\n",
       "    <tr>\n",
       "      <th>1</th>\n",
       "      <td>2014-07-09</td>\n",
       "      <td>95.39</td>\n",
       "    </tr>\n",
       "    <tr>\n",
       "      <th>2</th>\n",
       "      <td>2014-07-10</td>\n",
       "      <td>95.04</td>\n",
       "    </tr>\n",
       "    <tr>\n",
       "      <th>3</th>\n",
       "      <td>2014-07-11</td>\n",
       "      <td>95.22</td>\n",
       "    </tr>\n",
       "    <tr>\n",
       "      <th>4</th>\n",
       "      <td>2014-07-14</td>\n",
       "      <td>96.45</td>\n",
       "    </tr>\n",
       "  </tbody>\n",
       "</table>\n",
       "</div>"
      ],
      "text/plain": [
       "        date  closed price\n",
       "0 2014-07-08         95.35\n",
       "1 2014-07-09         95.39\n",
       "2 2014-07-10         95.04\n",
       "3 2014-07-11         95.22\n",
       "4 2014-07-14         96.45"
      ]
     },
     "execution_count": 71,
     "metadata": {},
     "output_type": "execute_result"
    }
   ],
   "source": [
    "#sorting\n",
    "data = data.sort_index(ascending=True, axis=0)\n",
    "\n",
    "# Create a new DataFrame with only closing price and date\n",
    "df = pd.DataFrame(data, columns=['closed price'])\n",
    "\n",
    "# Reset index column so that we have integers to represent time for later analysis\n",
    "df = df.reset_index()\n",
    "df.head()"
   ]
  },
  {
   "cell_type": "code",
   "execution_count": 72,
   "metadata": {},
   "outputs": [
    {
     "data": {
      "text/plain": [
       "date            0\n",
       "closed price    0\n",
       "dtype: int64"
      ]
     },
     "execution_count": 72,
     "metadata": {},
     "output_type": "execute_result"
    }
   ],
   "source": [
    "df.isnull().sum()"
   ]
  },
  {
   "cell_type": "code",
   "execution_count": 73,
   "metadata": {},
   "outputs": [],
   "source": [
    "#train-test split\n",
    "from sklearn.model_selection import train_test_split\n",
    "train,test = train_test_split(df, test_size=0.2, random_state=0)"
   ]
  },
  {
   "cell_type": "code",
   "execution_count": 74,
   "metadata": {},
   "outputs": [
    {
     "data": {
      "text/plain": [
       "array([[30],\n",
       "       [ 8],\n",
       "       [22],\n",
       "       [26],\n",
       "       [25],\n",
       "       [29],\n",
       "       [ 8],\n",
       "       [28],\n",
       "       [30],\n",
       "       [ 1],\n",
       "       [ 8],\n",
       "       [ 8],\n",
       "       [11],\n",
       "       [27],\n",
       "       [17],\n",
       "       [24],\n",
       "       [ 6],\n",
       "       [25],\n",
       "       [ 1],\n",
       "       [ 2],\n",
       "       [18],\n",
       "       [18],\n",
       "       [ 7],\n",
       "       [ 7],\n",
       "       [19],\n",
       "       [28],\n",
       "       [25],\n",
       "       [12],\n",
       "       [30],\n",
       "       [29],\n",
       "       [13],\n",
       "       [14],\n",
       "       [21],\n",
       "       [ 2],\n",
       "       [20],\n",
       "       [ 5],\n",
       "       [15],\n",
       "       [30],\n",
       "       [14],\n",
       "       [ 4],\n",
       "       [17],\n",
       "       [29],\n",
       "       [16],\n",
       "       [ 5],\n",
       "       [19],\n",
       "       [18],\n",
       "       [24],\n",
       "       [21],\n",
       "       [15],\n",
       "       [26],\n",
       "       [28],\n",
       "       [ 6],\n",
       "       [13],\n",
       "       [30],\n",
       "       [27],\n",
       "       [25],\n",
       "       [25],\n",
       "       [22],\n",
       "       [19],\n",
       "       [10],\n",
       "       [16],\n",
       "       [19],\n",
       "       [10],\n",
       "       [ 7],\n",
       "       [17],\n",
       "       [ 8],\n",
       "       [25],\n",
       "       [22],\n",
       "       [ 8],\n",
       "       [ 8],\n",
       "       [ 7],\n",
       "       [17],\n",
       "       [21],\n",
       "       [24],\n",
       "       [24],\n",
       "       [ 8],\n",
       "       [ 7],\n",
       "       [12],\n",
       "       [12],\n",
       "       [22],\n",
       "       [ 6],\n",
       "       [12],\n",
       "       [10],\n",
       "       [ 3],\n",
       "       [20],\n",
       "       [25],\n",
       "       [ 7],\n",
       "       [16],\n",
       "       [18],\n",
       "       [ 3],\n",
       "       [28],\n",
       "       [18],\n",
       "       [10],\n",
       "       [ 2],\n",
       "       [13],\n",
       "       [29],\n",
       "       [20],\n",
       "       [12],\n",
       "       [30],\n",
       "       [26],\n",
       "       [21],\n",
       "       [ 9],\n",
       "       [28],\n",
       "       [28],\n",
       "       [12],\n",
       "       [14],\n",
       "       [20],\n",
       "       [ 6],\n",
       "       [ 4],\n",
       "       [12],\n",
       "       [20],\n",
       "       [11],\n",
       "       [25],\n",
       "       [29],\n",
       "       [27],\n",
       "       [ 6],\n",
       "       [14],\n",
       "       [19],\n",
       "       [ 4],\n",
       "       [12],\n",
       "       [14],\n",
       "       [ 4],\n",
       "       [ 2],\n",
       "       [19],\n",
       "       [ 6],\n",
       "       [27],\n",
       "       [11],\n",
       "       [12],\n",
       "       [28],\n",
       "       [28],\n",
       "       [25],\n",
       "       [21],\n",
       "       [13],\n",
       "       [ 8],\n",
       "       [ 5],\n",
       "       [22],\n",
       "       [ 3],\n",
       "       [10],\n",
       "       [ 9],\n",
       "       [31],\n",
       "       [15],\n",
       "       [11],\n",
       "       [ 3],\n",
       "       [ 2],\n",
       "       [24],\n",
       "       [14],\n",
       "       [28],\n",
       "       [ 3],\n",
       "       [ 4],\n",
       "       [15],\n",
       "       [11],\n",
       "       [25],\n",
       "       [14],\n",
       "       [22],\n",
       "       [15],\n",
       "       [22],\n",
       "       [ 8],\n",
       "       [14],\n",
       "       [12],\n",
       "       [27],\n",
       "       [ 2],\n",
       "       [22],\n",
       "       [29],\n",
       "       [19],\n",
       "       [22],\n",
       "       [ 2],\n",
       "       [25],\n",
       "       [11],\n",
       "       [26],\n",
       "       [30],\n",
       "       [22],\n",
       "       [24],\n",
       "       [18],\n",
       "       [20],\n",
       "       [29],\n",
       "       [23],\n",
       "       [22],\n",
       "       [21],\n",
       "       [14],\n",
       "       [28],\n",
       "       [27],\n",
       "       [13],\n",
       "       [ 9],\n",
       "       [26],\n",
       "       [ 9],\n",
       "       [ 7],\n",
       "       [15],\n",
       "       [18],\n",
       "       [31],\n",
       "       [ 1],\n",
       "       [10],\n",
       "       [20],\n",
       "       [23],\n",
       "       [28],\n",
       "       [ 4],\n",
       "       [ 5],\n",
       "       [22],\n",
       "       [24],\n",
       "       [14],\n",
       "       [ 5],\n",
       "       [28],\n",
       "       [22],\n",
       "       [25],\n",
       "       [22],\n",
       "       [ 4],\n",
       "       [29],\n",
       "       [10],\n",
       "       [29],\n",
       "       [ 4],\n",
       "       [23],\n",
       "       [ 4],\n",
       "       [26],\n",
       "       [24],\n",
       "       [21],\n",
       "       [31],\n",
       "       [11],\n",
       "       [30],\n",
       "       [20],\n",
       "       [ 9],\n",
       "       [ 9],\n",
       "       [19],\n",
       "       [ 8],\n",
       "       [ 3],\n",
       "       [11],\n",
       "       [ 3],\n",
       "       [16],\n",
       "       [30],\n",
       "       [ 7],\n",
       "       [31],\n",
       "       [ 2],\n",
       "       [27],\n",
       "       [29],\n",
       "       [ 9],\n",
       "       [29],\n",
       "       [27],\n",
       "       [15],\n",
       "       [15],\n",
       "       [21],\n",
       "       [28],\n",
       "       [ 9],\n",
       "       [ 3],\n",
       "       [24],\n",
       "       [23],\n",
       "       [12],\n",
       "       [ 8],\n",
       "       [ 5],\n",
       "       [26],\n",
       "       [19],\n",
       "       [ 8],\n",
       "       [25],\n",
       "       [10],\n",
       "       [ 5],\n",
       "       [16],\n",
       "       [14],\n",
       "       [18],\n",
       "       [ 2],\n",
       "       [13],\n",
       "       [22],\n",
       "       [13],\n",
       "       [20],\n",
       "       [12],\n",
       "       [24],\n",
       "       [ 5],\n",
       "       [22],\n",
       "       [28],\n",
       "       [10],\n",
       "       [29],\n",
       "       [11],\n",
       "       [29],\n",
       "       [31],\n",
       "       [15],\n",
       "       [ 5],\n",
       "       [31],\n",
       "       [10],\n",
       "       [19],\n",
       "       [10],\n",
       "       [ 6],\n",
       "       [ 1],\n",
       "       [ 3],\n",
       "       [ 6],\n",
       "       [25],\n",
       "       [21],\n",
       "       [30],\n",
       "       [14],\n",
       "       [18],\n",
       "       [20],\n",
       "       [ 9],\n",
       "       [14],\n",
       "       [11],\n",
       "       [30],\n",
       "       [ 6],\n",
       "       [ 2],\n",
       "       [18],\n",
       "       [ 7],\n",
       "       [13],\n",
       "       [24],\n",
       "       [ 7],\n",
       "       [15],\n",
       "       [18],\n",
       "       [ 4],\n",
       "       [25],\n",
       "       [ 4],\n",
       "       [12],\n",
       "       [26],\n",
       "       [22],\n",
       "       [ 7],\n",
       "       [11],\n",
       "       [ 9],\n",
       "       [18],\n",
       "       [10],\n",
       "       [ 7],\n",
       "       [10],\n",
       "       [23],\n",
       "       [25],\n",
       "       [14],\n",
       "       [ 5],\n",
       "       [20],\n",
       "       [ 7],\n",
       "       [ 7],\n",
       "       [25],\n",
       "       [29],\n",
       "       [24],\n",
       "       [28],\n",
       "       [17],\n",
       "       [27],\n",
       "       [20],\n",
       "       [ 8],\n",
       "       [19],\n",
       "       [21],\n",
       "       [21],\n",
       "       [14],\n",
       "       [17],\n",
       "       [ 9],\n",
       "       [ 3],\n",
       "       [30],\n",
       "       [28],\n",
       "       [15],\n",
       "       [ 2],\n",
       "       [ 8],\n",
       "       [ 3],\n",
       "       [ 1],\n",
       "       [27],\n",
       "       [23],\n",
       "       [12],\n",
       "       [11],\n",
       "       [17],\n",
       "       [16],\n",
       "       [31],\n",
       "       [10],\n",
       "       [ 9],\n",
       "       [ 6],\n",
       "       [10],\n",
       "       [28],\n",
       "       [23],\n",
       "       [29],\n",
       "       [20],\n",
       "       [23],\n",
       "       [ 5],\n",
       "       [27],\n",
       "       [ 4],\n",
       "       [29],\n",
       "       [30],\n",
       "       [ 7],\n",
       "       [11],\n",
       "       [ 1],\n",
       "       [18],\n",
       "       [11],\n",
       "       [ 5],\n",
       "       [ 3],\n",
       "       [16],\n",
       "       [19],\n",
       "       [ 5],\n",
       "       [ 6],\n",
       "       [15],\n",
       "       [15],\n",
       "       [22],\n",
       "       [13],\n",
       "       [ 4],\n",
       "       [27],\n",
       "       [12],\n",
       "       [15],\n",
       "       [17],\n",
       "       [ 4],\n",
       "       [16],\n",
       "       [ 3],\n",
       "       [26],\n",
       "       [11],\n",
       "       [ 7],\n",
       "       [24],\n",
       "       [ 6],\n",
       "       [27],\n",
       "       [25],\n",
       "       [ 4],\n",
       "       [ 5],\n",
       "       [18],\n",
       "       [27],\n",
       "       [ 9],\n",
       "       [ 3],\n",
       "       [13],\n",
       "       [31],\n",
       "       [13],\n",
       "       [14],\n",
       "       [12],\n",
       "       [21],\n",
       "       [17],\n",
       "       [ 6],\n",
       "       [17],\n",
       "       [30],\n",
       "       [ 3],\n",
       "       [16],\n",
       "       [ 2],\n",
       "       [24],\n",
       "       [ 5],\n",
       "       [ 5],\n",
       "       [22],\n",
       "       [11],\n",
       "       [19],\n",
       "       [13],\n",
       "       [11],\n",
       "       [14],\n",
       "       [24],\n",
       "       [15],\n",
       "       [30],\n",
       "       [13],\n",
       "       [24],\n",
       "       [ 7],\n",
       "       [17],\n",
       "       [ 9],\n",
       "       [23],\n",
       "       [20],\n",
       "       [22],\n",
       "       [ 9],\n",
       "       [24],\n",
       "       [ 6],\n",
       "       [ 7],\n",
       "       [27],\n",
       "       [30],\n",
       "       [ 3],\n",
       "       [12],\n",
       "       [31],\n",
       "       [15],\n",
       "       [30],\n",
       "       [13],\n",
       "       [ 8],\n",
       "       [29],\n",
       "       [26],\n",
       "       [10],\n",
       "       [28],\n",
       "       [15],\n",
       "       [11],\n",
       "       [20],\n",
       "       [ 8],\n",
       "       [15],\n",
       "       [14],\n",
       "       [ 5],\n",
       "       [26],\n",
       "       [26],\n",
       "       [ 1],\n",
       "       [18],\n",
       "       [27],\n",
       "       [ 7],\n",
       "       [22],\n",
       "       [ 9],\n",
       "       [26],\n",
       "       [13],\n",
       "       [10],\n",
       "       [ 2],\n",
       "       [23],\n",
       "       [17],\n",
       "       [19],\n",
       "       [ 2],\n",
       "       [ 3],\n",
       "       [ 8],\n",
       "       [31],\n",
       "       [22],\n",
       "       [23],\n",
       "       [28],\n",
       "       [10],\n",
       "       [31],\n",
       "       [12],\n",
       "       [20],\n",
       "       [17],\n",
       "       [28],\n",
       "       [10],\n",
       "       [ 1],\n",
       "       [13],\n",
       "       [ 5],\n",
       "       [12],\n",
       "       [ 3],\n",
       "       [27],\n",
       "       [27],\n",
       "       [26],\n",
       "       [29],\n",
       "       [16],\n",
       "       [11],\n",
       "       [20],\n",
       "       [ 7],\n",
       "       [28],\n",
       "       [ 6],\n",
       "       [12],\n",
       "       [22],\n",
       "       [13],\n",
       "       [20],\n",
       "       [ 9],\n",
       "       [13],\n",
       "       [ 8],\n",
       "       [ 1],\n",
       "       [15],\n",
       "       [17],\n",
       "       [14],\n",
       "       [11],\n",
       "       [28],\n",
       "       [28],\n",
       "       [23],\n",
       "       [13],\n",
       "       [ 6],\n",
       "       [ 2],\n",
       "       [15],\n",
       "       [18],\n",
       "       [22],\n",
       "       [15],\n",
       "       [16],\n",
       "       [20],\n",
       "       [23],\n",
       "       [ 2],\n",
       "       [ 5],\n",
       "       [ 7],\n",
       "       [10],\n",
       "       [10],\n",
       "       [13],\n",
       "       [25],\n",
       "       [ 8],\n",
       "       [23],\n",
       "       [ 5],\n",
       "       [ 1],\n",
       "       [31],\n",
       "       [19],\n",
       "       [ 6],\n",
       "       [21],\n",
       "       [29],\n",
       "       [14],\n",
       "       [ 5],\n",
       "       [ 4],\n",
       "       [18],\n",
       "       [27],\n",
       "       [ 7],\n",
       "       [ 2],\n",
       "       [23],\n",
       "       [17],\n",
       "       [ 8],\n",
       "       [ 6],\n",
       "       [22],\n",
       "       [ 2],\n",
       "       [23],\n",
       "       [16],\n",
       "       [21],\n",
       "       [18],\n",
       "       [23],\n",
       "       [25],\n",
       "       [25],\n",
       "       [10],\n",
       "       [ 6],\n",
       "       [ 8],\n",
       "       [13],\n",
       "       [24],\n",
       "       [11],\n",
       "       [ 4],\n",
       "       [10],\n",
       "       [ 4],\n",
       "       [29],\n",
       "       [ 7],\n",
       "       [18],\n",
       "       [23],\n",
       "       [16],\n",
       "       [14],\n",
       "       [ 2],\n",
       "       [28],\n",
       "       [31],\n",
       "       [ 9],\n",
       "       [10],\n",
       "       [23],\n",
       "       [17],\n",
       "       [26],\n",
       "       [29],\n",
       "       [16],\n",
       "       [19],\n",
       "       [16],\n",
       "       [ 5],\n",
       "       [ 1],\n",
       "       [24],\n",
       "       [16],\n",
       "       [11],\n",
       "       [13],\n",
       "       [26],\n",
       "       [27],\n",
       "       [ 2],\n",
       "       [ 3],\n",
       "       [ 7],\n",
       "       [24],\n",
       "       [20],\n",
       "       [12],\n",
       "       [18],\n",
       "       [ 3],\n",
       "       [10],\n",
       "       [18],\n",
       "       [21],\n",
       "       [29],\n",
       "       [ 2],\n",
       "       [ 7],\n",
       "       [ 9],\n",
       "       [13],\n",
       "       [23],\n",
       "       [ 8],\n",
       "       [12],\n",
       "       [ 4],\n",
       "       [17],\n",
       "       [13],\n",
       "       [13],\n",
       "       [ 9],\n",
       "       [15],\n",
       "       [ 4],\n",
       "       [14],\n",
       "       [19],\n",
       "       [ 9],\n",
       "       [26],\n",
       "       [12],\n",
       "       [ 8],\n",
       "       [29],\n",
       "       [ 5],\n",
       "       [21],\n",
       "       [28],\n",
       "       [28],\n",
       "       [17],\n",
       "       [26],\n",
       "       [29],\n",
       "       [31],\n",
       "       [11],\n",
       "       [20],\n",
       "       [ 5],\n",
       "       [14],\n",
       "       [10],\n",
       "       [ 8],\n",
       "       [ 3],\n",
       "       [10],\n",
       "       [ 2],\n",
       "       [ 6],\n",
       "       [22],\n",
       "       [24],\n",
       "       [25],\n",
       "       [ 4],\n",
       "       [26],\n",
       "       [ 9],\n",
       "       [17],\n",
       "       [ 6],\n",
       "       [18],\n",
       "       [29],\n",
       "       [ 2],\n",
       "       [15],\n",
       "       [12],\n",
       "       [31],\n",
       "       [ 8],\n",
       "       [29],\n",
       "       [23],\n",
       "       [16],\n",
       "       [28],\n",
       "       [13],\n",
       "       [12],\n",
       "       [11],\n",
       "       [30],\n",
       "       [25],\n",
       "       [10],\n",
       "       [31],\n",
       "       [26],\n",
       "       [ 4],\n",
       "       [17],\n",
       "       [ 5],\n",
       "       [ 1],\n",
       "       [ 8],\n",
       "       [28],\n",
       "       [14],\n",
       "       [ 5],\n",
       "       [21],\n",
       "       [27],\n",
       "       [25],\n",
       "       [ 6],\n",
       "       [10],\n",
       "       [13],\n",
       "       [16],\n",
       "       [29],\n",
       "       [11],\n",
       "       [29],\n",
       "       [19],\n",
       "       [19],\n",
       "       [31],\n",
       "       [29],\n",
       "       [ 9],\n",
       "       [18],\n",
       "       [ 6],\n",
       "       [21],\n",
       "       [22],\n",
       "       [27],\n",
       "       [ 4],\n",
       "       [30],\n",
       "       [16],\n",
       "       [24],\n",
       "       [17],\n",
       "       [ 3],\n",
       "       [ 8],\n",
       "       [29],\n",
       "       [13],\n",
       "       [18],\n",
       "       [ 1],\n",
       "       [19],\n",
       "       [ 8],\n",
       "       [23],\n",
       "       [15],\n",
       "       [16],\n",
       "       [ 2],\n",
       "       [24],\n",
       "       [13],\n",
       "       [31],\n",
       "       [16],\n",
       "       [21],\n",
       "       [19],\n",
       "       [14],\n",
       "       [29],\n",
       "       [29],\n",
       "       [ 4],\n",
       "       [ 7],\n",
       "       [20],\n",
       "       [21],\n",
       "       [30],\n",
       "       [13],\n",
       "       [ 3],\n",
       "       [28],\n",
       "       [ 3],\n",
       "       [ 5],\n",
       "       [ 1],\n",
       "       [21],\n",
       "       [ 3],\n",
       "       [26],\n",
       "       [28],\n",
       "       [25],\n",
       "       [24],\n",
       "       [24],\n",
       "       [25],\n",
       "       [13],\n",
       "       [31],\n",
       "       [ 6],\n",
       "       [11],\n",
       "       [22],\n",
       "       [ 4],\n",
       "       [ 6],\n",
       "       [22],\n",
       "       [ 5],\n",
       "       [19],\n",
       "       [15],\n",
       "       [25],\n",
       "       [10],\n",
       "       [ 9],\n",
       "       [ 2],\n",
       "       [ 9],\n",
       "       [25],\n",
       "       [ 1],\n",
       "       [ 4],\n",
       "       [13],\n",
       "       [14],\n",
       "       [30],\n",
       "       [22],\n",
       "       [24],\n",
       "       [22],\n",
       "       [13],\n",
       "       [ 1],\n",
       "       [ 5],\n",
       "       [28],\n",
       "       [18],\n",
       "       [17],\n",
       "       [31],\n",
       "       [14],\n",
       "       [20],\n",
       "       [ 2],\n",
       "       [13],\n",
       "       [ 3],\n",
       "       [ 4],\n",
       "       [ 1],\n",
       "       [ 8],\n",
       "       [26],\n",
       "       [16],\n",
       "       [10],\n",
       "       [27],\n",
       "       [16],\n",
       "       [16],\n",
       "       [16],\n",
       "       [26],\n",
       "       [25],\n",
       "       [10],\n",
       "       [14],\n",
       "       [11],\n",
       "       [ 1],\n",
       "       [30],\n",
       "       [ 8],\n",
       "       [18],\n",
       "       [17],\n",
       "       [15],\n",
       "       [15],\n",
       "       [27],\n",
       "       [ 8],\n",
       "       [20],\n",
       "       [12],\n",
       "       [16],\n",
       "       [17],\n",
       "       [ 7],\n",
       "       [ 2],\n",
       "       [29],\n",
       "       [ 5],\n",
       "       [23],\n",
       "       [11],\n",
       "       [12],\n",
       "       [19],\n",
       "       [22],\n",
       "       [ 9],\n",
       "       [18],\n",
       "       [28],\n",
       "       [ 3],\n",
       "       [12],\n",
       "       [ 4],\n",
       "       [28],\n",
       "       [20],\n",
       "       [ 9],\n",
       "       [ 8],\n",
       "       [19],\n",
       "       [17],\n",
       "       [15],\n",
       "       [29],\n",
       "       [24],\n",
       "       [18],\n",
       "       [14],\n",
       "       [15],\n",
       "       [18],\n",
       "       [11],\n",
       "       [28],\n",
       "       [21],\n",
       "       [22],\n",
       "       [15],\n",
       "       [28],\n",
       "       [23],\n",
       "       [ 5],\n",
       "       [24],\n",
       "       [11],\n",
       "       [11],\n",
       "       [13],\n",
       "       [20],\n",
       "       [17],\n",
       "       [20],\n",
       "       [17],\n",
       "       [ 4],\n",
       "       [19],\n",
       "       [14],\n",
       "       [27],\n",
       "       [ 9],\n",
       "       [ 7],\n",
       "       [ 1],\n",
       "       [ 1],\n",
       "       [ 1],\n",
       "       [21],\n",
       "       [ 8],\n",
       "       [19],\n",
       "       [26],\n",
       "       [21],\n",
       "       [ 9],\n",
       "       [ 7],\n",
       "       [10],\n",
       "       [19],\n",
       "       [ 3],\n",
       "       [16],\n",
       "       [ 6],\n",
       "       [30],\n",
       "       [20],\n",
       "       [ 2],\n",
       "       [26],\n",
       "       [30],\n",
       "       [14],\n",
       "       [30],\n",
       "       [ 9],\n",
       "       [27],\n",
       "       [ 2],\n",
       "       [20],\n",
       "       [31],\n",
       "       [23],\n",
       "       [ 5],\n",
       "       [10],\n",
       "       [11],\n",
       "       [ 7],\n",
       "       [ 8],\n",
       "       [26],\n",
       "       [23],\n",
       "       [ 3],\n",
       "       [19],\n",
       "       [25],\n",
       "       [20],\n",
       "       [12],\n",
       "       [22],\n",
       "       [30],\n",
       "       [ 3],\n",
       "       [27],\n",
       "       [16],\n",
       "       [21],\n",
       "       [17],\n",
       "       [25],\n",
       "       [26],\n",
       "       [ 7],\n",
       "       [ 9],\n",
       "       [ 3],\n",
       "       [16],\n",
       "       [14],\n",
       "       [18],\n",
       "       [19],\n",
       "       [18],\n",
       "       [ 9],\n",
       "       [23],\n",
       "       [14],\n",
       "       [ 7],\n",
       "       [ 7],\n",
       "       [10],\n",
       "       [16],\n",
       "       [12],\n",
       "       [11],\n",
       "       [ 1],\n",
       "       [13],\n",
       "       [ 7],\n",
       "       [ 5],\n",
       "       [ 2],\n",
       "       [30],\n",
       "       [17],\n",
       "       [ 6],\n",
       "       [ 8],\n",
       "       [26],\n",
       "       [10],\n",
       "       [21],\n",
       "       [22],\n",
       "       [29],\n",
       "       [29],\n",
       "       [27],\n",
       "       [12],\n",
       "       [20],\n",
       "       [22],\n",
       "       [26],\n",
       "       [ 5],\n",
       "       [ 6],\n",
       "       [ 4],\n",
       "       [ 1],\n",
       "       [31],\n",
       "       [19],\n",
       "       [ 5],\n",
       "       [ 1],\n",
       "       [23]], dtype=int64)"
      ]
     },
     "execution_count": 74,
     "metadata": {},
     "output_type": "execute_result"
    }
   ],
   "source": [
    "# Reshape index column to 2D array for .fit() method\n",
    "X_train = np.array(train.index).reshape(-1, 1)\n",
    "y_train = train['closed price']\n",
    "x_train"
   ]
  },
  {
   "cell_type": "code",
   "execution_count": 75,
   "metadata": {},
   "outputs": [],
   "source": [
    "from sklearn.linear_model import LinearRegression\n",
    "from sklearn.metrics import mean_squared_error\n",
    "reg=LinearRegression()\n",
    "reg=reg.fit(x_train,y_train)"
   ]
  },
  {
   "cell_type": "code",
   "execution_count": 79,
   "metadata": {},
   "outputs": [],
   "source": [
    "#plt.figure(1, figsize=(16,10))\n",
    "#plt.title('Linear Regression | Price vs Time')\n",
    "#plt.scatter(X_train, y_train, edgecolor='w', label='Actual Price')\n",
    "#plt.plot(X_train, reg.predict(X_train), color='r', label='Predicted Price')\n",
    "#plt.xlabel('Integer Date')\n",
    "#plt.ylabel('Stock Price')\n",
    "#plt.legend()\n",
    "#plt.show()"
   ]
  },
  {
   "cell_type": "code",
   "execution_count": 80,
   "metadata": {},
   "outputs": [],
   "source": [
    "# Create test arrays\n",
    "X_test = np.array(test.index).reshape(-1, 1)\n",
    "y_test = test['closed price']"
   ]
  },
  {
   "cell_type": "code",
   "execution_count": 81,
   "metadata": {},
   "outputs": [
    {
     "data": {
      "text/plain": [
       "[<matplotlib.lines.Line2D at 0x281049aed30>]"
      ]
     },
     "execution_count": 81,
     "metadata": {},
     "output_type": "execute_result"
    },
    {
     "data": {
      "image/png": "[encoded data removed]",
      "text/plain": [
       "<Figure size 432x288 with 1 Axes>"
      ]
     },
     "metadata": {
      "needs_background": "light"
     },
     "output_type": "display_data"
    }
   ],
   "source": [
    "# Generate array with predicted values\n",
    "y_pred = reg.predict(X_test)\n",
    "plt.plot(y_pred)\n"
   ]
  },
  {
   "cell_type": "code",
   "execution_count": 82,
   "metadata": {},
   "outputs": [],
   "source": [
    "# Generate 30 random numbers\n",
    "randints = np.random.randint(1195, size=30)\n",
    "\n",
    "# Select row numbers == random numbers\n",
    "df_sample = df[df.index.isin(randints)]"
   ]
  },
  {
   "cell_type": "code",
   "execution_count": 83,
   "metadata": {},
   "outputs": [
    {
     "data": {
      "text/plain": [
       "(30, 2)"
      ]
     },
     "execution_count": 83,
     "metadata": {},
     "output_type": "execute_result"
    }
   ],
   "source": [
    "x_ran = np.array(df_sample.index).reshape(-1, 1)\n",
    "#predict value for random dataset\n",
    "y_predr= reg.predict(x_ran)\n",
    "y_predr.shape\n",
    "df_sample.shape"
   ]
  },
  {
   "cell_type": "code",
   "execution_count": 84,
   "metadata": {},
   "outputs": [
    {
     "name": "stderr",
     "output_type": "stream",
     "text": [
      "C:\\ProgramData\\Anaconda3\\lib\\site-packages\\ipykernel_launcher.py:1: SettingWithCopyWarning: \n",
      "A value is trying to be set on a copy of a slice from a DataFrame.\n",
      "Try using .loc[row_indexer,col_indexer] = value instead\n",
      "\n",
      "See the caveats in the documentation: http://pandas.pydata.org/pandas-docs/stable/indexing.html#indexing-view-versus-copy\n",
      "  \"\"\"Entry point for launching an IPython kernel.\n"
     ]
    },
    {
     "data": {
      "text/html": [
       "<div>\n",
       "<style scoped>\n",
       "    .dataframe tbody tr th:only-of-type {\n",
       "        vertical-align: middle;\n",
       "    }\n",
       "\n",
       "    .dataframe tbody tr th {\n",
       "        vertical-align: top;\n",
       "    }\n",
       "\n",
       "    .dataframe thead th {\n",
       "        text-align: right;\n",
       "    }\n",
       "</style>\n",
       "<table border=\"1\" class=\"dataframe\">\n",
       "  <thead>\n",
       "    <tr style=\"text-align: right;\">\n",
       "      <th></th>\n",
       "      <th>date</th>\n",
       "      <th>closed price</th>\n",
       "      <th>preds</th>\n",
       "    </tr>\n",
       "  </thead>\n",
       "  <tbody>\n",
       "    <tr>\n",
       "      <th>3</th>\n",
       "      <td>2014-07-11</td>\n",
       "      <td>95.22</td>\n",
       "      <td>142.692529</td>\n",
       "    </tr>\n",
       "    <tr>\n",
       "      <th>122</th>\n",
       "      <td>2015-01-08</td>\n",
       "      <td>111.89</td>\n",
       "      <td>127.154869</td>\n",
       "    </tr>\n",
       "    <tr>\n",
       "      <th>172</th>\n",
       "      <td>2015-03-25</td>\n",
       "      <td>123.38</td>\n",
       "      <td>120.626441</td>\n",
       "    </tr>\n",
       "    <tr>\n",
       "      <th>189</th>\n",
       "      <td>2015-04-21</td>\n",
       "      <td>126.91</td>\n",
       "      <td>118.406775</td>\n",
       "    </tr>\n",
       "    <tr>\n",
       "      <th>223</th>\n",
       "      <td>2015-06-10</td>\n",
       "      <td>128.88</td>\n",
       "      <td>113.967443</td>\n",
       "    </tr>\n",
       "  </tbody>\n",
       "</table>\n",
       "</div>"
      ],
      "text/plain": [
       "          date  closed price       preds\n",
       "3   2014-07-11         95.22  142.692529\n",
       "122 2015-01-08        111.89  127.154869\n",
       "172 2015-03-25        123.38  120.626441\n",
       "189 2015-04-21        126.91  118.406775\n",
       "223 2015-06-10        128.88  113.967443"
      ]
     },
     "execution_count": 84,
     "metadata": {},
     "output_type": "execute_result"
    }
   ],
   "source": [
    "df_sample['preds']=y_predr\n",
    "df_sample.head()"
   ]
  },
  {
   "cell_type": "code",
   "execution_count": 85,
   "metadata": {},
   "outputs": [
    {
     "data": {
      "image/png": "[encoded data removed]",
      "text/plain": [
       "<Figure size 432x288 with 1 Axes>"
      ]
     },
     "metadata": {
      "needs_background": "light"
     },
     "output_type": "display_data"
    }
   ],
   "source": [
    "# Create subplots to plot graph and control axes\n",
    "fig, ax = plt.subplots()\n",
    "df_sample.plot(x='date', y=['closed price', 'preds'], kind='bar', ax=ax)\n",
    "# Set figure title\n",
    "plt.title('Comparison Predicted vs Actual Price in Sample data selection', fontsize=16)\n",
    "\n",
    "# \n",
    "\n",
    "# Set x label\n",
    "plt.xlabel('Date', fontsize=14)\n",
    "\n",
    "# Set y label\n",
    "plt.ylabel('Stock Price in $', fontsize=14)\n",
    "\n",
    "# Show plot\n",
    "plt.show()\n"
   ]
  },
  {
   "cell_type": "code",
   "execution_count": 88,
   "metadata": {},
   "outputs": [
    {
     "data": {
      "text/plain": [
       "[<matplotlib.lines.Line2D at 0x281033643c8>]"
      ]
     },
     "execution_count": 88,
     "metadata": {},
     "output_type": "execute_result"
    },
    {
     "data": {
      "image/png": "[encoded data removed]",
      "text/plain": [
       "<Figure size 432x288 with 1 Axes>"
      ]
     },
     "metadata": {
      "needs_background": "light"
     },
     "output_type": "display_data"
    }
   ],
   "source": [
    "plt.plot(y_pred)\n"
   ]
  },
  {
   "cell_type": "code",
   "execution_count": 89,
   "metadata": {},
   "outputs": [
    {
     "data": {
      "text/plain": [
       "[<matplotlib.lines.Line2D at 0x2810466a208>]"
      ]
     },
     "execution_count": 89,
     "metadata": {},
     "output_type": "execute_result"
    },
    {
     "data": {
      "image/png": "[encoded data removed]",
      "text/plain": [
       "<Figure size 432x288 with 1 Axes>"
      ]
     },
     "metadata": {
      "needs_background": "light"
     },
     "output_type": "display_data"
    }
   ],
   "source": [
    "plt.plot(data['closed price'])"
   ]
  },
  {
   "cell_type": "code",
   "execution_count": 90,
   "metadata": {},
   "outputs": [],
   "source": [
    "# Generate 30 random numbers\n",
    "randints = np.random.randint(1195, size=30)\n",
    "\n",
    "# Select row numbers == random numbers\n",
    "df_sample = df[df.index.isin(randints)]"
   ]
  },
  {
   "cell_type": "code",
   "execution_count": 91,
   "metadata": {},
   "outputs": [
    {
     "data": {
      "text/plain": [
       "(29, 2)"
      ]
     },
     "execution_count": 91,
     "metadata": {},
     "output_type": "execute_result"
    }
   ],
   "source": [
    "x_ran = np.array(df_sample.index).reshape(-1, 1)\n",
    "#predict value for random dataset\n",
    "y_predr= reg.predict(x_ran)\n",
    "y_predr.shape\n",
    "df_sample.shape"
   ]
  },
  {
   "cell_type": "code",
   "execution_count": 92,
   "metadata": {},
   "outputs": [
    {
     "name": "stderr",
     "output_type": "stream",
     "text": [
      "C:\\ProgramData\\Anaconda3\\lib\\site-packages\\ipykernel_launcher.py:1: SettingWithCopyWarning: \n",
      "A value is trying to be set on a copy of a slice from a DataFrame.\n",
      "Try using .loc[row_indexer,col_indexer] = value instead\n",
      "\n",
      "See the caveats in the documentation: http://pandas.pydata.org/pandas-docs/stable/indexing.html#indexing-view-versus-copy\n",
      "  \"\"\"Entry point for launching an IPython kernel.\n"
     ]
    },
    {
     "data": {
      "text/html": [
       "<div>\n",
       "<style scoped>\n",
       "    .dataframe tbody tr th:only-of-type {\n",
       "        vertical-align: middle;\n",
       "    }\n",
       "\n",
       "    .dataframe tbody tr th {\n",
       "        vertical-align: top;\n",
       "    }\n",
       "\n",
       "    .dataframe thead th {\n",
       "        text-align: right;\n",
       "    }\n",
       "</style>\n",
       "<table border=\"1\" class=\"dataframe\">\n",
       "  <thead>\n",
       "    <tr style=\"text-align: right;\">\n",
       "      <th></th>\n",
       "      <th>date</th>\n",
       "      <th>closed price</th>\n",
       "      <th>preds</th>\n",
       "    </tr>\n",
       "  </thead>\n",
       "  <tbody>\n",
       "    <tr>\n",
       "      <th>114</th>\n",
       "      <td>2014-12-23</td>\n",
       "      <td>112.54</td>\n",
       "      <td>128.199418</td>\n",
       "    </tr>\n",
       "    <tr>\n",
       "      <th>122</th>\n",
       "      <td>2015-01-08</td>\n",
       "      <td>111.89</td>\n",
       "      <td>127.154869</td>\n",
       "    </tr>\n",
       "    <tr>\n",
       "      <th>156</th>\n",
       "      <td>2015-03-02</td>\n",
       "      <td>129.09</td>\n",
       "      <td>122.715538</td>\n",
       "    </tr>\n",
       "    <tr>\n",
       "      <th>207</th>\n",
       "      <td>2015-05-15</td>\n",
       "      <td>128.77</td>\n",
       "      <td>116.056541</td>\n",
       "    </tr>\n",
       "    <tr>\n",
       "      <th>216</th>\n",
       "      <td>2015-06-01</td>\n",
       "      <td>130.54</td>\n",
       "      <td>114.881423</td>\n",
       "    </tr>\n",
       "  </tbody>\n",
       "</table>\n",
       "</div>"
      ],
      "text/plain": [
       "          date  closed price       preds\n",
       "114 2014-12-23        112.54  128.199418\n",
       "122 2015-01-08        111.89  127.154869\n",
       "156 2015-03-02        129.09  122.715538\n",
       "207 2015-05-15        128.77  116.056541\n",
       "216 2015-06-01        130.54  114.881423"
      ]
     },
     "execution_count": 92,
     "metadata": {},
     "output_type": "execute_result"
    }
   ],
   "source": [
    "df_sample['preds']=y_predr\n",
    "df_sample.head()"
   ]
  },
  {
   "cell_type": "code",
   "execution_count": 93,
   "metadata": {},
   "outputs": [
    {
     "data": {
      "text/plain": [
       "(29, 3)"
      ]
     },
     "execution_count": 93,
     "metadata": {},
     "output_type": "execute_result"
    }
   ],
   "source": [
    "df_sample.shape"
   ]
  },
  {
   "cell_type": "code",
   "execution_count": 94,
   "metadata": {},
   "outputs": [
    {
     "data": {
      "image/png": "[encoded data removed]",
      "text/plain": [
       "<Figure size 432x288 with 1 Axes>"
      ]
     },
     "metadata": {
      "needs_background": "light"
     },
     "output_type": "display_data"
    }
   ],
   "source": [
    "# Create subplots to plot graph and control axes\n",
    "fig, ax = plt.subplots()\n",
    "df_sample.plot(x='date', y=['closed price', 'preds'], kind='bar', ax=ax)\n",
    "# Set figure title\n",
    "plt.title('Comparison Predicted vs Actual Price in Sample data selection', fontsize=16)\n",
    "\n",
    "# \n",
    "\n",
    "# Set x label\n",
    "plt.xlabel('Date', fontsize=14)\n",
    "\n",
    "# Set y label\n",
    "plt.ylabel('Stock Price in $', fontsize=14)\n",
    "\n",
    "# Show plot\n",
    "plt.show()\n"
   ]
  },
  {
   "cell_type": "code",
   "execution_count": 95,
   "metadata": {},
   "outputs": [
    {
     "data": {
      "image/png": "[encoded data removed]",
      "text/plain": [
       "<Figure size 432x288 with 1 Axes>"
      ]
     },
     "metadata": {
      "needs_background": "light"
     },
     "output_type": "display_data"
    }
   ],
   "source": [
    "# Plot predicted vs actual prices\n",
    "plt.scatter(y_test, y_pred)\n",
    "\n",
    "plt.xlabel('Actual Prices')\n",
    "plt.ylabel('Predicted Prices')\n",
    "\n",
    "plt.title('Predicted vs Actual Price')\n",
    "\n",
    "plt.show()\n"
   ]
  },
  {
   "cell_type": "code",
   "execution_count": 96,
   "metadata": {},
   "outputs": [
    {
     "name": "stdout",
     "output_type": "stream",
     "text": [
      "Root Mean Squared Error: 115.17050081925932\n"
     ]
    }
   ],
   "source": [
    "# Import metrics package from sklearn for statistical analysis\n",
    "from sklearn import metrics\n",
    "print('Root Mean Squared Error:', np.sqrt(metrics.mean_squared_error(y_test, y_pred)))\n"
   ]
  },
  {
   "cell_type": "code",
   "execution_count": 97,
   "metadata": {},
   "outputs": [
    {
     "data": {
      "text/plain": [
       "115.17050081925932"
      ]
     },
     "execution_count": 97,
     "metadata": {},
     "output_type": "execute_result"
    }
   ],
   "source": [
    "rms=np.sqrt(np.mean(np.power((np.array(y_test)-y_pred),2)))\n",
    "rms"
   ]
  },
  {
   "cell_type": "code",
   "execution_count": 98,
   "metadata": {},
   "outputs": [
    {
     "data": {
      "text/plain": [
       "-8.248166501134584"
      ]
     },
     "execution_count": 98,
     "metadata": {},
     "output_type": "execute_result"
    }
   ],
   "source": [
    "R2=metrics.r2_score(y_test, y_pred) \n",
    "R2"
   ]
  },
  {
   "cell_type": "code",
   "execution_count": 99,
   "metadata": {},
   "outputs": [
    {
     "data": {
      "text/plain": [
       "-0.014771404104589882"
      ]
     },
     "execution_count": 99,
     "metadata": {},
     "output_type": "execute_result"
    }
   ],
   "source": [
    "reg.score(x_test, y_test)"
   ]
  },
  {
   "cell_type": "markdown",
   "metadata": {},
   "source": [
    "# MOVING AVERAGE"
   ]
  },
  {
   "cell_type": "code",
   "execution_count": 100,
   "metadata": {},
   "outputs": [
    {
     "data": {
      "text/plain": [
       "(239, 2)"
      ]
     },
     "execution_count": 100,
     "metadata": {},
     "output_type": "execute_result"
    }
   ],
   "source": [
    "test.shape"
   ]
  },
  {
   "cell_type": "code",
   "execution_count": 101,
   "metadata": {},
   "outputs": [],
   "source": [
    "#make predictions\n",
    "preds = []\n",
    "for i in range(0,239):\n",
    "    a = train['closed price'][len(train)-239+i:].sum() + sum(preds)\n",
    "    b = a/239\n",
    "    preds.append(b)"
   ]
  },
  {
   "cell_type": "code",
   "execution_count": 102,
   "metadata": {},
   "outputs": [
    {
     "data": {
      "text/plain": [
       "[143.5418828451883,\n",
       " 143.40519616253218,\n",
       " 143.3663057699068,\n",
       " 143.15382169363025,\n",
       " 143.23216404381282,\n",
       " 143.1155622197283,\n",
       " 142.99776122483178,\n",
       " 143.06260541405706,\n",
       " 143.19056610616605,\n",
       " 143.3824094789952,\n",
       " 143.09430240568554,\n",
       " 142.95724927767586,\n",
       " 142.84016663867033,\n",
       " 142.98292884217943,\n",
       " 143.05017959047305,\n",
       " 143.1585067017303,\n",
       " 143.37875149964546,\n",
       " 143.52092200801215,\n",
       " 143.60519364821306,\n",
       " 143.23504801494198,\n",
       " 143.11134528697102,\n",
       " 143.1705977777115,\n",
       " 143.2875877265722,\n",
       " 143.4774102693612,\n",
       " 143.43698102362634,\n",
       " 143.60931148816033,\n",
       " 143.5802709504539,\n",
       " 143.64500011761058,\n",
       " 143.65757333986002,\n",
       " 143.83379749609372,\n",
       " 143.96356233917362,\n",
       " 143.78403749540445,\n",
       " 143.5133430916196,\n",
       " 143.68942402505732,\n",
       " 143.5688776820659,\n",
       " 143.67155081044277,\n",
       " 143.85586692262032,\n",
       " 143.69300444112503,\n",
       " 143.76787056849372,\n",
       " 143.9220876001611,\n",
       " 143.61481600016177,\n",
       " 143.81086125539255,\n",
       " 143.60680628156575,\n",
       " 143.471771998225,\n",
       " 143.4285158141172,\n",
       " 143.27558073384154,\n",
       " 143.11284257791618,\n",
       " 143.08381681464385,\n",
       " 142.9720336213997,\n",
       " 142.8391551009871,\n",
       " 142.64956997588666,\n",
       " 142.78492382515816,\n",
       " 142.95142978258556,\n",
       " 143.14746086954202,\n",
       " 143.0143540112556,\n",
       " 143.12328436276712,\n",
       " 143.26400940194185,\n",
       " 143.39042785132236,\n",
       " 143.21423717287604,\n",
       " 143.2748825166956,\n",
       " 143.06310378245584,\n",
       " 142.96529250121085,\n",
       " 142.84288786732472,\n",
       " 142.84457359061898,\n",
       " 142.8984839403705,\n",
       " 142.62245249242227,\n",
       " 142.748404176491,\n",
       " 142.72534310609973,\n",
       " 142.441683453824,\n",
       " 142.48520514191532,\n",
       " 142.53903445213257,\n",
       " 142.48714756699502,\n",
       " 142.24391387480668,\n",
       " 142.20911853537075,\n",
       " 142.20886380120913,\n",
       " 141.8743820597916,\n",
       " 141.63431671276143,\n",
       " 141.69659418854704,\n",
       " 141.35980169561208,\n",
       " 141.0829389412004,\n",
       " 141.26006420873682,\n",
       " 141.44947870333405,\n",
       " 141.49512505774132,\n",
       " 141.36811721279463,\n",
       " 141.28982481619545,\n",
       " 141.40965671919207,\n",
       " 141.46978080588323,\n",
       " 141.2281062485857,\n",
       " 141.28023221615297,\n",
       " 141.39889427563483,\n",
       " 141.5789733311814,\n",
       " 141.6820234288014,\n",
       " 141.83366369419386,\n",
       " 141.94003885609425,\n",
       " 142.13505993917414,\n",
       " 142.2789304828527,\n",
       " 142.02599713759267,\n",
       " 141.83405570302193,\n",
       " 141.8042400365074,\n",
       " 141.7074376935639,\n",
       " 141.51424705629844,\n",
       " 141.70480875946288,\n",
       " 141.7602682103393,\n",
       " 141.5703111735625,\n",
       " 141.53930829144352,\n",
       " 141.381481129483,\n",
       " 141.27646640617542,\n",
       " 141.38159806477864,\n",
       " 141.04382232446395,\n",
       " 141.13371279444075,\n",
       " 141.0486237266351,\n",
       " 140.7181577171231,\n",
       " 140.8024596322575,\n",
       " 140.86606824996568,\n",
       " 141.0613237656559,\n",
       " 141.1494464592361,\n",
       " 140.93915125613663,\n",
       " 141.072536826246,\n",
       " 141.16643865397089,\n",
       " 141.10094258139335,\n",
       " 141.1097749771314,\n",
       " 141.21366524900222,\n",
       " 141.3868186600859,\n",
       " 141.59132417749214,\n",
       " 141.7097397598247,\n",
       " 141.57823239480308,\n",
       " 141.74667688181063,\n",
       " 141.87172573905673,\n",
       " 141.82399237394816,\n",
       " 142.0107454801153,\n",
       " 141.8651000637141,\n",
       " 141.84432642381333,\n",
       " 141.97882151345271,\n",
       " 141.91785423945043,\n",
       " 141.79638082622637,\n",
       " 141.55511045311437,\n",
       " 141.49525735877592,\n",
       " 141.43109525567456,\n",
       " 141.35143456636777,\n",
       " 141.48746567333998,\n",
       " 141.53523749624102,\n",
       " 141.45860669078596,\n",
       " 141.5598560911658,\n",
       " 141.68349565640085,\n",
       " 141.61183664241088,\n",
       " 141.4083715237599,\n",
       " 141.5185739150727,\n",
       " 141.70722903605628,\n",
       " 141.84177811152094,\n",
       " 142.03885668102518,\n",
       " 141.85270126964875,\n",
       " 141.96258704901965,\n",
       " 142.15364389859715,\n",
       " 142.350981320767,\n",
       " 142.4224917028623,\n",
       " 142.2232552664726,\n",
       " 142.41389650189714,\n",
       " 142.13951949981302,\n",
       " 142.32989405838967,\n",
       " 142.2182618159561,\n",
       " 142.301308936525,\n",
       " 142.36993366010879,\n",
       " 142.49871999341468,\n",
       " 142.6765807465252,\n",
       " 142.5820894525776,\n",
       " 142.55506890635408,\n",
       " 142.4539604080543,\n",
       " 142.25259622566125,\n",
       " 142.10139369940876,\n",
       " 141.82821961446902,\n",
       " 141.65557618189362,\n",
       " 141.58827733746637,\n",
       " 141.37898142674447,\n",
       " 141.32035791806976,\n",
       " 141.4230790809069,\n",
       " 141.4862718804086,\n",
       " 141.6221558631718,\n",
       " 141.63312722661604,\n",
       " 141.5386214827943,\n",
       " 141.628406509919,\n",
       " 141.79630779238727,\n",
       " 141.9098069881713,\n",
       " 141.77457605506746,\n",
       " 141.91953244023512,\n",
       " 141.86061835002687,\n",
       " 141.97970043517344,\n",
       " 142.15220964201518,\n",
       " 142.25142390829978,\n",
       " 142.14226668615876,\n",
       " 141.94169039614266,\n",
       " 141.90491922625205,\n",
       " 142.08811972510668,\n",
       " 142.18878131391463,\n",
       " 142.32475947840803,\n",
       " 142.24553253061893,\n",
       " 142.1992376876508,\n",
       " 141.90823031395897,\n",
       " 142.05851579644417,\n",
       " 141.9359991261364,\n",
       " 142.11497820197798,\n",
       " 141.97612873838793,\n",
       " 142.1137694444063,\n",
       " 142.0640781031695,\n",
       " 142.10200311615347,\n",
       " 142.1710073132922,\n",
       " 142.16260148615115,\n",
       " 142.28018559278777,\n",
       " 142.38993532330153,\n",
       " 142.397048023399,\n",
       " 142.3843996887689,\n",
       " 142.52399968746667,\n",
       " 142.4128030334393,\n",
       " 142.41850513818176,\n",
       " 142.2829758709775,\n",
       " 142.1145364394753,\n",
       " 142.22953449989154,\n",
       " 142.12601790784086,\n",
       " 142.32951589071888,\n",
       " 142.24758917896457,\n",
       " 141.97561256465062,\n",
       " 142.09270717789184,\n",
       " 142.03493607821773,\n",
       " 142.20047974381697,\n",
       " 142.0548750565526,\n",
       " 142.17987453377668,\n",
       " 142.0720079000268,\n",
       " 142.1507610711566,\n",
       " 142.28005295848362,\n",
       " 142.38557619261954,\n",
       " 142.37200119760956,\n",
       " 142.48535685115607,\n",
       " 142.5936219425835,\n",
       " 142.46121031891232,\n",
       " 142.57184299807093,\n",
       " 142.7176666089415,\n",
       " 142.39907943994126,\n",
       " 142.33074922839293,\n",
       " 142.1940578025703,\n",
       " 142.32252666366892]"
      ]
     },
     "execution_count": 102,
     "metadata": {},
     "output_type": "execute_result"
    }
   ],
   "source": [
    "preds"
   ]
  },
  {
   "cell_type": "code",
   "execution_count": 103,
   "metadata": {},
   "outputs": [
    {
     "data": {
      "text/plain": [
       "37.95299998465095"
      ]
     },
     "execution_count": 103,
     "metadata": {},
     "output_type": "execute_result"
    }
   ],
   "source": [
    "#calculate rmse\n",
    "rms=np.sqrt(np.mean(np.power((np.array(test['closed price'])-preds),2)))\n",
    "rms"
   ]
  },
  {
   "cell_type": "code",
   "execution_count": 104,
   "metadata": {},
   "outputs": [],
   "source": [
    "# Generate 30 random numbers\n",
    "randints = np.random.randint(1195, size=30)\n",
    "\n",
    "# Select row numbers == random numbers\n",
    "df_sample = df[df.index.isin(randints)]"
   ]
  },
  {
   "cell_type": "code",
   "execution_count": 105,
   "metadata": {},
   "outputs": [
    {
     "data": {
      "text/plain": [
       "(30, 2)"
      ]
     },
     "execution_count": 105,
     "metadata": {},
     "output_type": "execute_result"
    }
   ],
   "source": [
    "x_ran = np.array(df_sample.index).reshape(-1, 1)\n",
    "#predict value for random dataset\n",
    "y_predr= reg.predict(x_ran)\n",
    "y_predr.shape\n",
    "df_sample.shape"
   ]
  },
  {
   "cell_type": "code",
   "execution_count": 106,
   "metadata": {},
   "outputs": [
    {
     "name": "stderr",
     "output_type": "stream",
     "text": [
      "C:\\ProgramData\\Anaconda3\\lib\\site-packages\\ipykernel_launcher.py:1: SettingWithCopyWarning: \n",
      "A value is trying to be set on a copy of a slice from a DataFrame.\n",
      "Try using .loc[row_indexer,col_indexer] = value instead\n",
      "\n",
      "See the caveats in the documentation: http://pandas.pydata.org/pandas-docs/stable/indexing.html#indexing-view-versus-copy\n",
      "  \"\"\"Entry point for launching an IPython kernel.\n"
     ]
    }
   ],
   "source": [
    "df_sample['preds']=y_predr"
   ]
  },
  {
   "cell_type": "code",
   "execution_count": 107,
   "metadata": {},
   "outputs": [
    {
     "data": {
      "text/html": [
       "<div>\n",
       "<style scoped>\n",
       "    .dataframe tbody tr th:only-of-type {\n",
       "        vertical-align: middle;\n",
       "    }\n",
       "\n",
       "    .dataframe tbody tr th {\n",
       "        vertical-align: top;\n",
       "    }\n",
       "\n",
       "    .dataframe thead th {\n",
       "        text-align: right;\n",
       "    }\n",
       "</style>\n",
       "<table border=\"1\" class=\"dataframe\">\n",
       "  <thead>\n",
       "    <tr style=\"text-align: right;\">\n",
       "      <th></th>\n",
       "      <th>date</th>\n",
       "      <th>closed price</th>\n",
       "      <th>preds</th>\n",
       "    </tr>\n",
       "  </thead>\n",
       "  <tbody>\n",
       "    <tr>\n",
       "      <th>41</th>\n",
       "      <td>2014-09-08</td>\n",
       "      <td>98.36</td>\n",
       "      <td>137.730923</td>\n",
       "    </tr>\n",
       "    <tr>\n",
       "      <th>61</th>\n",
       "      <td>2014-10-06</td>\n",
       "      <td>99.62</td>\n",
       "      <td>135.119552</td>\n",
       "    </tr>\n",
       "    <tr>\n",
       "      <th>70</th>\n",
       "      <td>2014-10-17</td>\n",
       "      <td>97.67</td>\n",
       "      <td>133.944435</td>\n",
       "    </tr>\n",
       "    <tr>\n",
       "      <th>247</th>\n",
       "      <td>2015-07-17</td>\n",
       "      <td>129.62</td>\n",
       "      <td>110.833798</td>\n",
       "    </tr>\n",
       "    <tr>\n",
       "      <th>252</th>\n",
       "      <td>2015-07-24</td>\n",
       "      <td>124.50</td>\n",
       "      <td>110.180955</td>\n",
       "    </tr>\n",
       "  </tbody>\n",
       "</table>\n",
       "</div>"
      ],
      "text/plain": [
       "          date  closed price       preds\n",
       "41  2014-09-08         98.36  137.730923\n",
       "61  2014-10-06         99.62  135.119552\n",
       "70  2014-10-17         97.67  133.944435\n",
       "247 2015-07-17        129.62  110.833798\n",
       "252 2015-07-24        124.50  110.180955"
      ]
     },
     "execution_count": 107,
     "metadata": {},
     "output_type": "execute_result"
    }
   ],
   "source": [
    "df_sample.head()"
   ]
  },
  {
   "cell_type": "code",
   "execution_count": 108,
   "metadata": {},
   "outputs": [
    {
     "data": {
      "image/png": "[encoded data removed]",
      "text/plain": [
       "<Figure size 432x288 with 1 Axes>"
      ]
     },
     "metadata": {
      "needs_background": "light"
     },
     "output_type": "display_data"
    }
   ],
   "source": [
    "# Create subplots to plot graph and control axes\n",
    "fig, ax = plt.subplots()\n",
    "df_sample.plot(x='date', y=['closed price', 'preds'], kind='bar', ax=ax)\n",
    "# Set figure title\n",
    "plt.title('Comparison Predicted vs Actual Price in Sample data selection', fontsize=16)\n",
    "\n",
    "# \n",
    "\n",
    "# Set x label\n",
    "plt.xlabel('Date', fontsize=14)\n",
    "\n",
    "# Set y label\n",
    "plt.ylabel('Stock Price in $', fontsize=14)\n",
    "\n",
    "# Show plot\n",
    "plt.show()\n"
   ]
  },
  {
   "cell_type": "markdown",
   "metadata": {},
   "source": [
    "# KNN"
   ]
  },
  {
   "cell_type": "code",
   "execution_count": 109,
   "metadata": {},
   "outputs": [],
   "source": [
    "#train-test split\n",
    "from sklearn.model_selection import train_test_split\n",
    "train,test = train_test_split(df, test_size=0.2, random_state=0)"
   ]
  },
  {
   "cell_type": "code",
   "execution_count": 110,
   "metadata": {},
   "outputs": [],
   "source": [
    "# Reshape index column to 2D array for .fit() method\n",
    "X_train = np.array(train.index).reshape(-1, 1)\n",
    "y_train = train['closed price']\n",
    "y_train=y_train.astype(int)"
   ]
  },
  {
   "cell_type": "code",
   "execution_count": 111,
   "metadata": {},
   "outputs": [
    {
     "data": {
      "text/plain": [
       "KNeighborsClassifier(algorithm='auto', leaf_size=30, metric='minkowski',\n",
       "                     metric_params=None, n_jobs=None, n_neighbors=2, p=2,\n",
       "                     weights='uniform')"
      ]
     },
     "execution_count": 111,
     "metadata": {},
     "output_type": "execute_result"
    }
   ],
   "source": [
    "from sklearn.neighbors import KNeighborsClassifier\n",
    "knn = KNeighborsClassifier(n_neighbors = 2, p = 2)\n",
    "knn.fit(x_train, y_train)"
   ]
  },
  {
   "cell_type": "code",
   "execution_count": 112,
   "metadata": {},
   "outputs": [],
   "source": [
    "# Create test arrays\n",
    "X_test = np.array(test.index).reshape(-1, 1)\n",
    "y_test = test['closed price']"
   ]
  },
  {
   "cell_type": "code",
   "execution_count": 113,
   "metadata": {},
   "outputs": [
    {
     "data": {
      "text/plain": [
       "(1195, 2)"
      ]
     },
     "execution_count": 113,
     "metadata": {},
     "output_type": "execute_result"
    }
   ],
   "source": [
    "y_pre = knn.predict(x_test)\n",
    "df.shape"
   ]
  },
  {
   "cell_type": "code",
   "execution_count": 114,
   "metadata": {},
   "outputs": [
    {
     "data": {
      "text/plain": [
       "51.896998542695954"
      ]
     },
     "execution_count": 114,
     "metadata": {},
     "output_type": "execute_result"
    }
   ],
   "source": [
    "rms=np.sqrt(np.mean(np.power((np.array(y_test)-y_pre),2)))\n",
    "rms"
   ]
  },
  {
   "cell_type": "code",
   "execution_count": 115,
   "metadata": {},
   "outputs": [],
   "source": [
    "# Generate 30 random numbers\n",
    "randints = np.random.randint(1195, size=29)\n",
    "\n",
    "# Select row numbers == random numbers\n",
    "df_sample = df[df.index.isin(randints)]"
   ]
  },
  {
   "cell_type": "code",
   "execution_count": 116,
   "metadata": {},
   "outputs": [
    {
     "data": {
      "text/plain": [
       "(29, 2)"
      ]
     },
     "execution_count": 116,
     "metadata": {},
     "output_type": "execute_result"
    }
   ],
   "source": [
    "x_ran = np.array(df_sample.index).reshape(-1, 1)\n",
    "#predict value for random dataset\n",
    "y_predr= reg.predict(x_ran)\n",
    "y_predr.shape\n",
    "df_sample.shape"
   ]
  },
  {
   "cell_type": "code",
   "execution_count": 117,
   "metadata": {},
   "outputs": [
    {
     "name": "stderr",
     "output_type": "stream",
     "text": [
      "C:\\ProgramData\\Anaconda3\\lib\\site-packages\\ipykernel_launcher.py:1: SettingWithCopyWarning: \n",
      "A value is trying to be set on a copy of a slice from a DataFrame.\n",
      "Try using .loc[row_indexer,col_indexer] = value instead\n",
      "\n",
      "See the caveats in the documentation: http://pandas.pydata.org/pandas-docs/stable/indexing.html#indexing-view-versus-copy\n",
      "  \"\"\"Entry point for launching an IPython kernel.\n"
     ]
    }
   ],
   "source": [
    "df_sample['preds']=y_predr"
   ]
  },
  {
   "cell_type": "code",
   "execution_count": 118,
   "metadata": {},
   "outputs": [
    {
     "data": {
      "text/html": [
       "<div>\n",
       "<style scoped>\n",
       "    .dataframe tbody tr th:only-of-type {\n",
       "        vertical-align: middle;\n",
       "    }\n",
       "\n",
       "    .dataframe tbody tr th {\n",
       "        vertical-align: top;\n",
       "    }\n",
       "\n",
       "    .dataframe thead th {\n",
       "        text-align: right;\n",
       "    }\n",
       "</style>\n",
       "<table border=\"1\" class=\"dataframe\">\n",
       "  <thead>\n",
       "    <tr style=\"text-align: right;\">\n",
       "      <th></th>\n",
       "      <th>date</th>\n",
       "      <th>closed price</th>\n",
       "      <th>preds</th>\n",
       "    </tr>\n",
       "  </thead>\n",
       "  <tbody>\n",
       "    <tr>\n",
       "      <th>3</th>\n",
       "      <td>2014-07-11</td>\n",
       "      <td>95.22</td>\n",
       "      <td>142.692529</td>\n",
       "    </tr>\n",
       "    <tr>\n",
       "      <th>122</th>\n",
       "      <td>2015-01-08</td>\n",
       "      <td>111.89</td>\n",
       "      <td>127.154869</td>\n",
       "    </tr>\n",
       "    <tr>\n",
       "      <th>145</th>\n",
       "      <td>2015-02-12</td>\n",
       "      <td>126.46</td>\n",
       "      <td>124.151792</td>\n",
       "    </tr>\n",
       "    <tr>\n",
       "      <th>158</th>\n",
       "      <td>2015-03-04</td>\n",
       "      <td>128.54</td>\n",
       "      <td>122.454401</td>\n",
       "    </tr>\n",
       "    <tr>\n",
       "      <th>220</th>\n",
       "      <td>2015-06-05</td>\n",
       "      <td>128.65</td>\n",
       "      <td>114.359149</td>\n",
       "    </tr>\n",
       "  </tbody>\n",
       "</table>\n",
       "</div>"
      ],
      "text/plain": [
       "          date  closed price       preds\n",
       "3   2014-07-11         95.22  142.692529\n",
       "122 2015-01-08        111.89  127.154869\n",
       "145 2015-02-12        126.46  124.151792\n",
       "158 2015-03-04        128.54  122.454401\n",
       "220 2015-06-05        128.65  114.359149"
      ]
     },
     "execution_count": 118,
     "metadata": {},
     "output_type": "execute_result"
    }
   ],
   "source": [
    "df_sample.head()"
   ]
  },
  {
   "cell_type": "code",
   "execution_count": 119,
   "metadata": {},
   "outputs": [
    {
     "data": {
      "image/png": "[encoded data removed]",
      "text/plain": [
       "<Figure size 432x288 with 1 Axes>"
      ]
     },
     "metadata": {
      "needs_background": "light"
     },
     "output_type": "display_data"
    }
   ],
   "source": [
    "# Create subplots to plot graph and control axes\n",
    "fig, ax = plt.subplots()\n",
    "df_sample.plot(x='date', y=['closed price', 'preds'], kind='bar', ax=ax)\n",
    "# Set figure title\n",
    "plt.title('Comparison Predicted vs Actual Price in Sample data selection', fontsize=16)\n",
    "\n",
    "# \n",
    "\n",
    "# Set x label\n",
    "plt.xlabel('Date', fontsize=14)\n",
    "\n",
    "# Set y label\n",
    "plt.ylabel('Stock Price in $', fontsize=14)\n",
    "\n",
    "# Show plot\n",
    "plt.show()\n"
   ]
  },
  {
   "cell_type": "code",
   "execution_count": 120,
   "metadata": {},
   "outputs": [
    {
     "data": {
      "text/plain": [
       "51.896998542695954"
      ]
     },
     "execution_count": 120,
     "metadata": {},
     "output_type": "execute_result"
    }
   ],
   "source": [
    "rms=np.sqrt(np.mean(np.power((np.array(y_test)-y_pre),2)))\n",
    "rms"
   ]
  },
  {
   "cell_type": "code",
   "execution_count": null,
   "metadata": {},
   "outputs": [],
   "source": []
  },
  {
   "cell_type": "code",
   "execution_count": null,
   "metadata": {},
   "outputs": [],
   "source": []
  },
  {
   "cell_type": "code",
   "execution_count": null,
   "metadata": {},
   "outputs": [],
   "source": []
  }
 ],
 "metadata": {
  "kernelspec": {
   "display_name": "Python 3",
   "language": "python",
   "name": "python3"
  },
  "language_info": {
   "codemirror_mode": {
    "name": "ipython",
    "version": 3
   },
   "file_extension": ".py",
   "mimetype": "text/x-python",
   "name": "python",
   "nbconvert_exporter": "python",
   "pygments_lexer": "ipython3",
   "version": "3.7.3"
  }
 },
 "nbformat": 4,
 "nbformat_minor": 2
}
